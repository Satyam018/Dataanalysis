{
  "nbformat": 4,
  "nbformat_minor": 0,
  "metadata": {
    "colab": {
      "name": "superstoredataanalysis.ipynb",
      "provenance": [],
      "authorship_tag": "ABX9TyN7XmKFqI+h8JyR6v9Kh6o4",
      "include_colab_link": true
    },
    "kernelspec": {
      "name": "python3",
      "display_name": "Python 3"
    },
    "language_info": {
      "name": "python"
    }
  },
  "cells": [
    {
      "cell_type": "markdown",
      "metadata": {
        "id": "view-in-github",
        "colab_type": "text"
      },
      "source": [
        "<a href=\"https://colab.research.google.com/github/Satyam018/Dataanalysis/blob/main/supermarketsaleanalysis/superstoredataanalysis.ipynb\" target=\"_parent\"><img src=\"https://colab.research.google.com/assets/colab-badge.svg\" alt=\"Open In Colab\"/></a>"
      ]
    },
    {
      "cell_type": "code",
      "metadata": {
        "id": "LVVkaeY3pdNI"
      },
      "source": [
        "import pandas as pd\n",
        "import matplotlib.pyplot as plt\n",
        "%matplotlib inline\n",
        "import seaborn as sns"
      ],
      "execution_count": 2,
      "outputs": []
    },
    {
      "cell_type": "code",
      "metadata": {
        "id": "mc1SOIApp951"
      },
      "source": [
        "df1=pd.read_excel('/content/superstore_sales.xlsx')"
      ],
      "execution_count": 3,
      "outputs": []
    },
    {
      "cell_type": "code",
      "metadata": {
        "colab": {
          "base_uri": "https://localhost:8080/",
          "height": 358
        },
        "id": "oRvezdxGqbW4",
        "outputId": "fd4680bd-4c89-4c0b-9bed-4274f3e5856c"
      },
      "source": [
        "df1.head(5)"
      ],
      "execution_count": 4,
      "outputs": [
        {
          "output_type": "execute_result",
          "data": {
            "text/html": [
              "<div>\n",
              "<style scoped>\n",
              "    .dataframe tbody tr th:only-of-type {\n",
              "        vertical-align: middle;\n",
              "    }\n",
              "\n",
              "    .dataframe tbody tr th {\n",
              "        vertical-align: top;\n",
              "    }\n",
              "\n",
              "    .dataframe thead th {\n",
              "        text-align: right;\n",
              "    }\n",
              "</style>\n",
              "<table border=\"1\" class=\"dataframe\">\n",
              "  <thead>\n",
              "    <tr style=\"text-align: right;\">\n",
              "      <th></th>\n",
              "      <th>order_id</th>\n",
              "      <th>order_date</th>\n",
              "      <th>ship_date</th>\n",
              "      <th>ship_mode</th>\n",
              "      <th>customer_name</th>\n",
              "      <th>segment</th>\n",
              "      <th>state</th>\n",
              "      <th>country</th>\n",
              "      <th>market</th>\n",
              "      <th>region</th>\n",
              "      <th>product_id</th>\n",
              "      <th>category</th>\n",
              "      <th>sub_category</th>\n",
              "      <th>product_name</th>\n",
              "      <th>sales</th>\n",
              "      <th>quantity</th>\n",
              "      <th>discount</th>\n",
              "      <th>profit</th>\n",
              "      <th>shipping_cost</th>\n",
              "      <th>order_priority</th>\n",
              "      <th>year</th>\n",
              "    </tr>\n",
              "  </thead>\n",
              "  <tbody>\n",
              "    <tr>\n",
              "      <th>0</th>\n",
              "      <td>AG-2011-2040</td>\n",
              "      <td>2011-01-01</td>\n",
              "      <td>2011-01-06</td>\n",
              "      <td>Standard Class</td>\n",
              "      <td>Toby Braunhardt</td>\n",
              "      <td>Consumer</td>\n",
              "      <td>Constantine</td>\n",
              "      <td>Algeria</td>\n",
              "      <td>Africa</td>\n",
              "      <td>Africa</td>\n",
              "      <td>OFF-TEN-10000025</td>\n",
              "      <td>Office Supplies</td>\n",
              "      <td>Storage</td>\n",
              "      <td>Tenex Lockers, Blue</td>\n",
              "      <td>408.300</td>\n",
              "      <td>2</td>\n",
              "      <td>0.0</td>\n",
              "      <td>106.140</td>\n",
              "      <td>35.46</td>\n",
              "      <td>Medium</td>\n",
              "      <td>2011</td>\n",
              "    </tr>\n",
              "    <tr>\n",
              "      <th>1</th>\n",
              "      <td>IN-2011-47883</td>\n",
              "      <td>2011-01-01</td>\n",
              "      <td>2011-01-08</td>\n",
              "      <td>Standard Class</td>\n",
              "      <td>Joseph Holt</td>\n",
              "      <td>Consumer</td>\n",
              "      <td>New South Wales</td>\n",
              "      <td>Australia</td>\n",
              "      <td>APAC</td>\n",
              "      <td>Oceania</td>\n",
              "      <td>OFF-SU-10000618</td>\n",
              "      <td>Office Supplies</td>\n",
              "      <td>Supplies</td>\n",
              "      <td>Acme Trimmer, High Speed</td>\n",
              "      <td>120.366</td>\n",
              "      <td>3</td>\n",
              "      <td>0.1</td>\n",
              "      <td>36.036</td>\n",
              "      <td>9.72</td>\n",
              "      <td>Medium</td>\n",
              "      <td>2011</td>\n",
              "    </tr>\n",
              "    <tr>\n",
              "      <th>2</th>\n",
              "      <td>HU-2011-1220</td>\n",
              "      <td>2011-01-01</td>\n",
              "      <td>2011-01-05</td>\n",
              "      <td>Second Class</td>\n",
              "      <td>Annie Thurman</td>\n",
              "      <td>Consumer</td>\n",
              "      <td>Budapest</td>\n",
              "      <td>Hungary</td>\n",
              "      <td>EMEA</td>\n",
              "      <td>EMEA</td>\n",
              "      <td>OFF-TEN-10001585</td>\n",
              "      <td>Office Supplies</td>\n",
              "      <td>Storage</td>\n",
              "      <td>Tenex Box, Single Width</td>\n",
              "      <td>66.120</td>\n",
              "      <td>4</td>\n",
              "      <td>0.0</td>\n",
              "      <td>29.640</td>\n",
              "      <td>8.17</td>\n",
              "      <td>High</td>\n",
              "      <td>2011</td>\n",
              "    </tr>\n",
              "    <tr>\n",
              "      <th>3</th>\n",
              "      <td>IT-2011-3647632</td>\n",
              "      <td>2011-01-01</td>\n",
              "      <td>2011-01-05</td>\n",
              "      <td>Second Class</td>\n",
              "      <td>Eugene Moren</td>\n",
              "      <td>Home Office</td>\n",
              "      <td>Stockholm</td>\n",
              "      <td>Sweden</td>\n",
              "      <td>EU</td>\n",
              "      <td>North</td>\n",
              "      <td>OFF-PA-10001492</td>\n",
              "      <td>Office Supplies</td>\n",
              "      <td>Paper</td>\n",
              "      <td>Enermax Note Cards, Premium</td>\n",
              "      <td>44.865</td>\n",
              "      <td>3</td>\n",
              "      <td>0.5</td>\n",
              "      <td>-26.055</td>\n",
              "      <td>4.82</td>\n",
              "      <td>High</td>\n",
              "      <td>2011</td>\n",
              "    </tr>\n",
              "    <tr>\n",
              "      <th>4</th>\n",
              "      <td>IN-2011-47883</td>\n",
              "      <td>2011-01-01</td>\n",
              "      <td>2011-01-08</td>\n",
              "      <td>Standard Class</td>\n",
              "      <td>Joseph Holt</td>\n",
              "      <td>Consumer</td>\n",
              "      <td>New South Wales</td>\n",
              "      <td>Australia</td>\n",
              "      <td>APAC</td>\n",
              "      <td>Oceania</td>\n",
              "      <td>FUR-FU-10003447</td>\n",
              "      <td>Furniture</td>\n",
              "      <td>Furnishings</td>\n",
              "      <td>Eldon Light Bulb, Duo Pack</td>\n",
              "      <td>113.670</td>\n",
              "      <td>5</td>\n",
              "      <td>0.1</td>\n",
              "      <td>37.770</td>\n",
              "      <td>4.70</td>\n",
              "      <td>Medium</td>\n",
              "      <td>2011</td>\n",
              "    </tr>\n",
              "  </tbody>\n",
              "</table>\n",
              "</div>"
            ],
            "text/plain": [
              "          order_id order_date  ship_date  ... shipping_cost order_priority  year\n",
              "0     AG-2011-2040 2011-01-01 2011-01-06  ...         35.46         Medium  2011\n",
              "1    IN-2011-47883 2011-01-01 2011-01-08  ...          9.72         Medium  2011\n",
              "2     HU-2011-1220 2011-01-01 2011-01-05  ...          8.17           High  2011\n",
              "3  IT-2011-3647632 2011-01-01 2011-01-05  ...          4.82           High  2011\n",
              "4    IN-2011-47883 2011-01-01 2011-01-08  ...          4.70         Medium  2011\n",
              "\n",
              "[5 rows x 21 columns]"
            ]
          },
          "metadata": {},
          "execution_count": 4
        }
      ]
    },
    {
      "cell_type": "code",
      "metadata": {
        "colab": {
          "base_uri": "https://localhost:8080/"
        },
        "id": "Kxz66ls2qf1j",
        "outputId": "6df4e56c-082f-4de7-e83f-e816a10121bb"
      },
      "source": [
        "df1.shape"
      ],
      "execution_count": 5,
      "outputs": [
        {
          "output_type": "execute_result",
          "data": {
            "text/plain": [
              "(51290, 21)"
            ]
          },
          "metadata": {},
          "execution_count": 5
        }
      ]
    },
    {
      "cell_type": "code",
      "metadata": {
        "colab": {
          "base_uri": "https://localhost:8080/"
        },
        "id": "AjgNJnC_qkSI",
        "outputId": "799f376f-0edd-48bc-e388-ee0573b567af"
      },
      "source": [
        "df1.columns"
      ],
      "execution_count": 7,
      "outputs": [
        {
          "output_type": "execute_result",
          "data": {
            "text/plain": [
              "Index(['order_id', 'order_date', 'ship_date', 'ship_mode', 'customer_name',\n",
              "       'segment', 'state', 'country', 'market', 'region', 'product_id',\n",
              "       'category', 'sub_category', 'product_name', 'sales', 'quantity',\n",
              "       'discount', 'profit', 'shipping_cost', 'order_priority', 'year'],\n",
              "      dtype='object')"
            ]
          },
          "metadata": {},
          "execution_count": 7
        }
      ]
    },
    {
      "cell_type": "code",
      "metadata": {
        "colab": {
          "base_uri": "https://localhost:8080/"
        },
        "id": "9mLEdDXyqsvz",
        "outputId": "1de1f47c-b3ed-455a-e3d8-d461ca037a83"
      },
      "source": [
        "df1.info()"
      ],
      "execution_count": 8,
      "outputs": [
        {
          "output_type": "stream",
          "name": "stdout",
          "text": [
            "<class 'pandas.core.frame.DataFrame'>\n",
            "RangeIndex: 51290 entries, 0 to 51289\n",
            "Data columns (total 21 columns):\n",
            " #   Column          Non-Null Count  Dtype         \n",
            "---  ------          --------------  -----         \n",
            " 0   order_id        51290 non-null  object        \n",
            " 1   order_date      51290 non-null  datetime64[ns]\n",
            " 2   ship_date       51290 non-null  datetime64[ns]\n",
            " 3   ship_mode       51290 non-null  object        \n",
            " 4   customer_name   51290 non-null  object        \n",
            " 5   segment         51290 non-null  object        \n",
            " 6   state           51290 non-null  object        \n",
            " 7   country         51290 non-null  object        \n",
            " 8   market          51290 non-null  object        \n",
            " 9   region          51290 non-null  object        \n",
            " 10  product_id      51290 non-null  object        \n",
            " 11  category        51290 non-null  object        \n",
            " 12  sub_category    51290 non-null  object        \n",
            " 13  product_name    51290 non-null  object        \n",
            " 14  sales           51290 non-null  float64       \n",
            " 15  quantity        51290 non-null  int64         \n",
            " 16  discount        51290 non-null  float64       \n",
            " 17  profit          51290 non-null  float64       \n",
            " 18  shipping_cost   51290 non-null  float64       \n",
            " 19  order_priority  51290 non-null  object        \n",
            " 20  year            51290 non-null  int64         \n",
            "dtypes: datetime64[ns](2), float64(4), int64(2), object(13)\n",
            "memory usage: 8.2+ MB\n"
          ]
        }
      ]
    },
    {
      "cell_type": "code",
      "metadata": {
        "colab": {
          "base_uri": "https://localhost:8080/"
        },
        "id": "zpHPoIhfqzBz",
        "outputId": "d87d20a0-8ad7-488a-e0f1-f553e1ea098d"
      },
      "source": [
        "df1.isnull().sum()"
      ],
      "execution_count": 10,
      "outputs": [
        {
          "output_type": "execute_result",
          "data": {
            "text/plain": [
              "order_id          0\n",
              "order_date        0\n",
              "ship_date         0\n",
              "ship_mode         0\n",
              "customer_name     0\n",
              "segment           0\n",
              "state             0\n",
              "country           0\n",
              "market            0\n",
              "region            0\n",
              "product_id        0\n",
              "category          0\n",
              "sub_category      0\n",
              "product_name      0\n",
              "sales             0\n",
              "quantity          0\n",
              "discount          0\n",
              "profit            0\n",
              "shipping_cost     0\n",
              "order_priority    0\n",
              "year              0\n",
              "dtype: int64"
            ]
          },
          "metadata": {},
          "execution_count": 10
        }
      ]
    },
    {
      "cell_type": "code",
      "metadata": {
        "colab": {
          "base_uri": "https://localhost:8080/",
          "height": 295
        },
        "id": "0Nwel1yjq6ss",
        "outputId": "4a301afb-7b63-4d8c-8506-4efb0d963dd1"
      },
      "source": [
        "df1.describe()"
      ],
      "execution_count": 11,
      "outputs": [
        {
          "output_type": "execute_result",
          "data": {
            "text/html": [
              "<div>\n",
              "<style scoped>\n",
              "    .dataframe tbody tr th:only-of-type {\n",
              "        vertical-align: middle;\n",
              "    }\n",
              "\n",
              "    .dataframe tbody tr th {\n",
              "        vertical-align: top;\n",
              "    }\n",
              "\n",
              "    .dataframe thead th {\n",
              "        text-align: right;\n",
              "    }\n",
              "</style>\n",
              "<table border=\"1\" class=\"dataframe\">\n",
              "  <thead>\n",
              "    <tr style=\"text-align: right;\">\n",
              "      <th></th>\n",
              "      <th>sales</th>\n",
              "      <th>quantity</th>\n",
              "      <th>discount</th>\n",
              "      <th>profit</th>\n",
              "      <th>shipping_cost</th>\n",
              "      <th>year</th>\n",
              "    </tr>\n",
              "  </thead>\n",
              "  <tbody>\n",
              "    <tr>\n",
              "      <th>count</th>\n",
              "      <td>51290.000000</td>\n",
              "      <td>51290.000000</td>\n",
              "      <td>51290.000000</td>\n",
              "      <td>51290.000000</td>\n",
              "      <td>51290.000000</td>\n",
              "      <td>51290.000000</td>\n",
              "    </tr>\n",
              "    <tr>\n",
              "      <th>mean</th>\n",
              "      <td>246.490581</td>\n",
              "      <td>3.476545</td>\n",
              "      <td>0.142908</td>\n",
              "      <td>28.641740</td>\n",
              "      <td>26.375818</td>\n",
              "      <td>2012.777208</td>\n",
              "    </tr>\n",
              "    <tr>\n",
              "      <th>std</th>\n",
              "      <td>487.565361</td>\n",
              "      <td>2.278766</td>\n",
              "      <td>0.212280</td>\n",
              "      <td>174.424113</td>\n",
              "      <td>57.296810</td>\n",
              "      <td>1.098931</td>\n",
              "    </tr>\n",
              "    <tr>\n",
              "      <th>min</th>\n",
              "      <td>0.444000</td>\n",
              "      <td>1.000000</td>\n",
              "      <td>0.000000</td>\n",
              "      <td>-6599.978000</td>\n",
              "      <td>0.002000</td>\n",
              "      <td>2011.000000</td>\n",
              "    </tr>\n",
              "    <tr>\n",
              "      <th>25%</th>\n",
              "      <td>30.758625</td>\n",
              "      <td>2.000000</td>\n",
              "      <td>0.000000</td>\n",
              "      <td>0.000000</td>\n",
              "      <td>2.610000</td>\n",
              "      <td>2012.000000</td>\n",
              "    </tr>\n",
              "    <tr>\n",
              "      <th>50%</th>\n",
              "      <td>85.053000</td>\n",
              "      <td>3.000000</td>\n",
              "      <td>0.000000</td>\n",
              "      <td>9.240000</td>\n",
              "      <td>7.790000</td>\n",
              "      <td>2013.000000</td>\n",
              "    </tr>\n",
              "    <tr>\n",
              "      <th>75%</th>\n",
              "      <td>251.053200</td>\n",
              "      <td>5.000000</td>\n",
              "      <td>0.200000</td>\n",
              "      <td>36.810000</td>\n",
              "      <td>24.450000</td>\n",
              "      <td>2014.000000</td>\n",
              "    </tr>\n",
              "    <tr>\n",
              "      <th>max</th>\n",
              "      <td>22638.480000</td>\n",
              "      <td>14.000000</td>\n",
              "      <td>0.850000</td>\n",
              "      <td>8399.976000</td>\n",
              "      <td>933.570000</td>\n",
              "      <td>2014.000000</td>\n",
              "    </tr>\n",
              "  </tbody>\n",
              "</table>\n",
              "</div>"
            ],
            "text/plain": [
              "              sales      quantity  ...  shipping_cost          year\n",
              "count  51290.000000  51290.000000  ...   51290.000000  51290.000000\n",
              "mean     246.490581      3.476545  ...      26.375818   2012.777208\n",
              "std      487.565361      2.278766  ...      57.296810      1.098931\n",
              "min        0.444000      1.000000  ...       0.002000   2011.000000\n",
              "25%       30.758625      2.000000  ...       2.610000   2012.000000\n",
              "50%       85.053000      3.000000  ...       7.790000   2013.000000\n",
              "75%      251.053200      5.000000  ...      24.450000   2014.000000\n",
              "max    22638.480000     14.000000  ...     933.570000   2014.000000\n",
              "\n",
              "[8 rows x 6 columns]"
            ]
          },
          "metadata": {},
          "execution_count": 11
        }
      ]
    },
    {
      "cell_type": "code",
      "metadata": {
        "colab": {
          "base_uri": "https://localhost:8080/"
        },
        "id": "pYOORlF5rCE6",
        "outputId": "221d2484-a4a2-4b57-820b-93ffb2711fd0"
      },
      "source": [
        "df1['order_date'].min(),df1['order_date'].max()"
      ],
      "execution_count": 12,
      "outputs": [
        {
          "output_type": "execute_result",
          "data": {
            "text/plain": [
              "(Timestamp('2011-01-01 00:00:00'), Timestamp('2014-12-31 00:00:00'))"
            ]
          },
          "metadata": {},
          "execution_count": 12
        }
      ]
    },
    {
      "cell_type": "code",
      "metadata": {
        "id": "uU1QAwcMrYWA"
      },
      "source": [
        "df2=df1.copy()"
      ],
      "execution_count": 14,
      "outputs": []
    },
    {
      "cell_type": "code",
      "metadata": {
        "id": "gaSBQXeZrpsN"
      },
      "source": [
        "df2['Monthyear']=df2['order_date'].apply(lambda x: x.strftime(\"%y-%m\"))"
      ],
      "execution_count": 15,
      "outputs": []
    },
    {
      "cell_type": "code",
      "metadata": {
        "colab": {
          "base_uri": "https://localhost:8080/"
        },
        "id": "Cj425l3jr3qB",
        "outputId": "7f0a99a0-2188-4669-d0f6-c5654ff6bac9"
      },
      "source": [
        "df2['Monthyear']"
      ],
      "execution_count": 18,
      "outputs": [
        {
          "output_type": "execute_result",
          "data": {
            "text/plain": [
              "0        11-01\n",
              "1        11-01\n",
              "2        11-01\n",
              "3        11-01\n",
              "4        11-01\n",
              "         ...  \n",
              "51285    14-12\n",
              "51286    14-12\n",
              "51287    14-12\n",
              "51288    14-12\n",
              "51289    14-12\n",
              "Name: Monthyear, Length: 51290, dtype: object"
            ]
          },
          "metadata": {},
          "execution_count": 18
        }
      ]
    },
    {
      "cell_type": "code",
      "metadata": {
        "id": "DX99cw5vr5qa"
      },
      "source": [
        "dftrend=df2.groupby('Monthyear').sum()['sales'].reset_index()"
      ],
      "execution_count": 27,
      "outputs": []
    },
    {
      "cell_type": "code",
      "metadata": {
        "colab": {
          "base_uri": "https://localhost:8080/",
          "height": 1000
        },
        "id": "l8R9a0i8sGUC",
        "outputId": "418af283-d7d7-4895-839d-1fd91a5259af"
      },
      "source": [
        "dftrend"
      ],
      "execution_count": 28,
      "outputs": [
        {
          "output_type": "execute_result",
          "data": {
            "text/html": [
              "<div>\n",
              "<style scoped>\n",
              "    .dataframe tbody tr th:only-of-type {\n",
              "        vertical-align: middle;\n",
              "    }\n",
              "\n",
              "    .dataframe tbody tr th {\n",
              "        vertical-align: top;\n",
              "    }\n",
              "\n",
              "    .dataframe thead th {\n",
              "        text-align: right;\n",
              "    }\n",
              "</style>\n",
              "<table border=\"1\" class=\"dataframe\">\n",
              "  <thead>\n",
              "    <tr style=\"text-align: right;\">\n",
              "      <th></th>\n",
              "      <th>Monthyear</th>\n",
              "      <th>sales</th>\n",
              "    </tr>\n",
              "  </thead>\n",
              "  <tbody>\n",
              "    <tr>\n",
              "      <th>0</th>\n",
              "      <td>11-01</td>\n",
              "      <td>98898.48886</td>\n",
              "    </tr>\n",
              "    <tr>\n",
              "      <th>1</th>\n",
              "      <td>11-02</td>\n",
              "      <td>91152.15698</td>\n",
              "    </tr>\n",
              "    <tr>\n",
              "      <th>2</th>\n",
              "      <td>11-03</td>\n",
              "      <td>145729.36736</td>\n",
              "    </tr>\n",
              "    <tr>\n",
              "      <th>3</th>\n",
              "      <td>11-04</td>\n",
              "      <td>116915.76418</td>\n",
              "    </tr>\n",
              "    <tr>\n",
              "      <th>4</th>\n",
              "      <td>11-05</td>\n",
              "      <td>146747.83610</td>\n",
              "    </tr>\n",
              "    <tr>\n",
              "      <th>5</th>\n",
              "      <td>11-06</td>\n",
              "      <td>215207.38022</td>\n",
              "    </tr>\n",
              "    <tr>\n",
              "      <th>6</th>\n",
              "      <td>11-07</td>\n",
              "      <td>115510.41912</td>\n",
              "    </tr>\n",
              "    <tr>\n",
              "      <th>7</th>\n",
              "      <td>11-08</td>\n",
              "      <td>207581.49122</td>\n",
              "    </tr>\n",
              "    <tr>\n",
              "      <th>8</th>\n",
              "      <td>11-09</td>\n",
              "      <td>290214.45534</td>\n",
              "    </tr>\n",
              "    <tr>\n",
              "      <th>9</th>\n",
              "      <td>11-10</td>\n",
              "      <td>199071.26404</td>\n",
              "    </tr>\n",
              "    <tr>\n",
              "      <th>10</th>\n",
              "      <td>11-11</td>\n",
              "      <td>298496.53752</td>\n",
              "    </tr>\n",
              "    <tr>\n",
              "      <th>11</th>\n",
              "      <td>11-12</td>\n",
              "      <td>333925.73460</td>\n",
              "    </tr>\n",
              "    <tr>\n",
              "      <th>12</th>\n",
              "      <td>12-01</td>\n",
              "      <td>135780.72024</td>\n",
              "    </tr>\n",
              "    <tr>\n",
              "      <th>13</th>\n",
              "      <td>12-02</td>\n",
              "      <td>100510.21698</td>\n",
              "    </tr>\n",
              "    <tr>\n",
              "      <th>14</th>\n",
              "      <td>12-03</td>\n",
              "      <td>163076.77116</td>\n",
              "    </tr>\n",
              "    <tr>\n",
              "      <th>15</th>\n",
              "      <td>12-04</td>\n",
              "      <td>161052.26952</td>\n",
              "    </tr>\n",
              "    <tr>\n",
              "      <th>16</th>\n",
              "      <td>12-05</td>\n",
              "      <td>208364.89124</td>\n",
              "    </tr>\n",
              "    <tr>\n",
              "      <th>17</th>\n",
              "      <td>12-06</td>\n",
              "      <td>256175.69842</td>\n",
              "    </tr>\n",
              "    <tr>\n",
              "      <th>18</th>\n",
              "      <td>12-07</td>\n",
              "      <td>145236.78512</td>\n",
              "    </tr>\n",
              "    <tr>\n",
              "      <th>19</th>\n",
              "      <td>12-08</td>\n",
              "      <td>303142.94238</td>\n",
              "    </tr>\n",
              "    <tr>\n",
              "      <th>20</th>\n",
              "      <td>12-09</td>\n",
              "      <td>289389.16564</td>\n",
              "    </tr>\n",
              "    <tr>\n",
              "      <th>21</th>\n",
              "      <td>12-10</td>\n",
              "      <td>252939.85020</td>\n",
              "    </tr>\n",
              "    <tr>\n",
              "      <th>22</th>\n",
              "      <td>12-11</td>\n",
              "      <td>323512.41690</td>\n",
              "    </tr>\n",
              "    <tr>\n",
              "      <th>23</th>\n",
              "      <td>12-12</td>\n",
              "      <td>338256.96660</td>\n",
              "    </tr>\n",
              "    <tr>\n",
              "      <th>24</th>\n",
              "      <td>13-01</td>\n",
              "      <td>199185.90738</td>\n",
              "    </tr>\n",
              "    <tr>\n",
              "      <th>25</th>\n",
              "      <td>13-02</td>\n",
              "      <td>167239.65040</td>\n",
              "    </tr>\n",
              "    <tr>\n",
              "      <th>26</th>\n",
              "      <td>13-03</td>\n",
              "      <td>198594.03012</td>\n",
              "    </tr>\n",
              "    <tr>\n",
              "      <th>27</th>\n",
              "      <td>13-04</td>\n",
              "      <td>177821.31684</td>\n",
              "    </tr>\n",
              "    <tr>\n",
              "      <th>28</th>\n",
              "      <td>13-05</td>\n",
              "      <td>260498.56470</td>\n",
              "    </tr>\n",
              "    <tr>\n",
              "      <th>29</th>\n",
              "      <td>13-06</td>\n",
              "      <td>396519.61190</td>\n",
              "    </tr>\n",
              "    <tr>\n",
              "      <th>30</th>\n",
              "      <td>13-07</td>\n",
              "      <td>229928.95200</td>\n",
              "    </tr>\n",
              "    <tr>\n",
              "      <th>31</th>\n",
              "      <td>13-08</td>\n",
              "      <td>326488.78936</td>\n",
              "    </tr>\n",
              "    <tr>\n",
              "      <th>32</th>\n",
              "      <td>13-09</td>\n",
              "      <td>376619.24568</td>\n",
              "    </tr>\n",
              "    <tr>\n",
              "      <th>33</th>\n",
              "      <td>13-10</td>\n",
              "      <td>293406.64288</td>\n",
              "    </tr>\n",
              "    <tr>\n",
              "      <th>34</th>\n",
              "      <td>13-11</td>\n",
              "      <td>373989.36010</td>\n",
              "    </tr>\n",
              "    <tr>\n",
              "      <th>35</th>\n",
              "      <td>13-12</td>\n",
              "      <td>405454.37802</td>\n",
              "    </tr>\n",
              "    <tr>\n",
              "      <th>36</th>\n",
              "      <td>14-01</td>\n",
              "      <td>241268.55566</td>\n",
              "    </tr>\n",
              "    <tr>\n",
              "      <th>37</th>\n",
              "      <td>14-02</td>\n",
              "      <td>184837.35556</td>\n",
              "    </tr>\n",
              "    <tr>\n",
              "      <th>38</th>\n",
              "      <td>14-03</td>\n",
              "      <td>263100.77262</td>\n",
              "    </tr>\n",
              "    <tr>\n",
              "      <th>39</th>\n",
              "      <td>14-04</td>\n",
              "      <td>242771.86130</td>\n",
              "    </tr>\n",
              "    <tr>\n",
              "      <th>40</th>\n",
              "      <td>14-05</td>\n",
              "      <td>288401.04614</td>\n",
              "    </tr>\n",
              "    <tr>\n",
              "      <th>41</th>\n",
              "      <td>14-06</td>\n",
              "      <td>401814.06310</td>\n",
              "    </tr>\n",
              "    <tr>\n",
              "      <th>42</th>\n",
              "      <td>14-07</td>\n",
              "      <td>258705.68048</td>\n",
              "    </tr>\n",
              "    <tr>\n",
              "      <th>43</th>\n",
              "      <td>14-08</td>\n",
              "      <td>456619.94236</td>\n",
              "    </tr>\n",
              "    <tr>\n",
              "      <th>44</th>\n",
              "      <td>14-09</td>\n",
              "      <td>481157.24370</td>\n",
              "    </tr>\n",
              "    <tr>\n",
              "      <th>45</th>\n",
              "      <td>14-10</td>\n",
              "      <td>422766.62916</td>\n",
              "    </tr>\n",
              "    <tr>\n",
              "      <th>46</th>\n",
              "      <td>14-11</td>\n",
              "      <td>555279.02700</td>\n",
              "    </tr>\n",
              "    <tr>\n",
              "      <th>47</th>\n",
              "      <td>14-12</td>\n",
              "      <td>503143.69348</td>\n",
              "    </tr>\n",
              "  </tbody>\n",
              "</table>\n",
              "</div>"
            ],
            "text/plain": [
              "   Monthyear         sales\n",
              "0      11-01   98898.48886\n",
              "1      11-02   91152.15698\n",
              "2      11-03  145729.36736\n",
              "3      11-04  116915.76418\n",
              "4      11-05  146747.83610\n",
              "5      11-06  215207.38022\n",
              "6      11-07  115510.41912\n",
              "7      11-08  207581.49122\n",
              "8      11-09  290214.45534\n",
              "9      11-10  199071.26404\n",
              "10     11-11  298496.53752\n",
              "11     11-12  333925.73460\n",
              "12     12-01  135780.72024\n",
              "13     12-02  100510.21698\n",
              "14     12-03  163076.77116\n",
              "15     12-04  161052.26952\n",
              "16     12-05  208364.89124\n",
              "17     12-06  256175.69842\n",
              "18     12-07  145236.78512\n",
              "19     12-08  303142.94238\n",
              "20     12-09  289389.16564\n",
              "21     12-10  252939.85020\n",
              "22     12-11  323512.41690\n",
              "23     12-12  338256.96660\n",
              "24     13-01  199185.90738\n",
              "25     13-02  167239.65040\n",
              "26     13-03  198594.03012\n",
              "27     13-04  177821.31684\n",
              "28     13-05  260498.56470\n",
              "29     13-06  396519.61190\n",
              "30     13-07  229928.95200\n",
              "31     13-08  326488.78936\n",
              "32     13-09  376619.24568\n",
              "33     13-10  293406.64288\n",
              "34     13-11  373989.36010\n",
              "35     13-12  405454.37802\n",
              "36     14-01  241268.55566\n",
              "37     14-02  184837.35556\n",
              "38     14-03  263100.77262\n",
              "39     14-04  242771.86130\n",
              "40     14-05  288401.04614\n",
              "41     14-06  401814.06310\n",
              "42     14-07  258705.68048\n",
              "43     14-08  456619.94236\n",
              "44     14-09  481157.24370\n",
              "45     14-10  422766.62916\n",
              "46     14-11  555279.02700\n",
              "47     14-12  503143.69348"
            ]
          },
          "metadata": {},
          "execution_count": 28
        }
      ]
    },
    {
      "cell_type": "code",
      "metadata": {
        "colab": {
          "base_uri": "https://localhost:8080/",
          "height": 391
        },
        "id": "-UgiCDKlsw6s",
        "outputId": "8eef665c-f186-4a6f-9a69-408414779f79"
      },
      "source": [
        "plt.figure(figsize=(19,6))\n",
        "plt.plot(dftrend['Monthyear'],dftrend['sales'])\n",
        "plt.xticks(rotation='vertical')\n",
        "plt.show()\n"
      ],
      "execution_count": 35,
      "outputs": [
        {
          "output_type": "display_data",
          "data": {
            "image/png": "[encoded data removed]",
            "text/plain": [
              "<Figure size 1368x432 with 1 Axes>"
            ]
          },
          "metadata": {
            "needs_background": "light"
          }
        }
      ]
    },
    {
      "cell_type": "code",
      "metadata": {
        "colab": {
          "base_uri": "https://localhost:8080/",
          "height": 181
        },
        "id": "jH4Klg5TtRsL",
        "outputId": "2f254f28-97b4-4083-8aec-c54e69be7ce3"
      },
      "source": [
        "df2.head(2)"
      ],
      "execution_count": 37,
      "outputs": [
        {
          "output_type": "execute_result",
          "data": {
            "text/html": [
              "<div>\n",
              "<style scoped>\n",
              "    .dataframe tbody tr th:only-of-type {\n",
              "        vertical-align: middle;\n",
              "    }\n",
              "\n",
              "    .dataframe tbody tr th {\n",
              "        vertical-align: top;\n",
              "    }\n",
              "\n",
              "    .dataframe thead th {\n",
              "        text-align: right;\n",
              "    }\n",
              "</style>\n",
              "<table border=\"1\" class=\"dataframe\">\n",
              "  <thead>\n",
              "    <tr style=\"text-align: right;\">\n",
              "      <th></th>\n",
              "      <th>order_id</th>\n",
              "      <th>order_date</th>\n",
              "      <th>ship_date</th>\n",
              "      <th>ship_mode</th>\n",
              "      <th>customer_name</th>\n",
              "      <th>segment</th>\n",
              "      <th>state</th>\n",
              "      <th>country</th>\n",
              "      <th>market</th>\n",
              "      <th>region</th>\n",
              "      <th>product_id</th>\n",
              "      <th>category</th>\n",
              "      <th>sub_category</th>\n",
              "      <th>product_name</th>\n",
              "      <th>sales</th>\n",
              "      <th>quantity</th>\n",
              "      <th>discount</th>\n",
              "      <th>profit</th>\n",
              "      <th>shipping_cost</th>\n",
              "      <th>order_priority</th>\n",
              "      <th>year</th>\n",
              "      <th>Monthyear</th>\n",
              "    </tr>\n",
              "  </thead>\n",
              "  <tbody>\n",
              "    <tr>\n",
              "      <th>0</th>\n",
              "      <td>AG-2011-2040</td>\n",
              "      <td>2011-01-01</td>\n",
              "      <td>2011-01-06</td>\n",
              "      <td>Standard Class</td>\n",
              "      <td>Toby Braunhardt</td>\n",
              "      <td>Consumer</td>\n",
              "      <td>Constantine</td>\n",
              "      <td>Algeria</td>\n",
              "      <td>Africa</td>\n",
              "      <td>Africa</td>\n",
              "      <td>OFF-TEN-10000025</td>\n",
              "      <td>Office Supplies</td>\n",
              "      <td>Storage</td>\n",
              "      <td>Tenex Lockers, Blue</td>\n",
              "      <td>408.300</td>\n",
              "      <td>2</td>\n",
              "      <td>0.0</td>\n",
              "      <td>106.140</td>\n",
              "      <td>35.46</td>\n",
              "      <td>Medium</td>\n",
              "      <td>2011</td>\n",
              "      <td>11-01</td>\n",
              "    </tr>\n",
              "    <tr>\n",
              "      <th>1</th>\n",
              "      <td>IN-2011-47883</td>\n",
              "      <td>2011-01-01</td>\n",
              "      <td>2011-01-08</td>\n",
              "      <td>Standard Class</td>\n",
              "      <td>Joseph Holt</td>\n",
              "      <td>Consumer</td>\n",
              "      <td>New South Wales</td>\n",
              "      <td>Australia</td>\n",
              "      <td>APAC</td>\n",
              "      <td>Oceania</td>\n",
              "      <td>OFF-SU-10000618</td>\n",
              "      <td>Office Supplies</td>\n",
              "      <td>Supplies</td>\n",
              "      <td>Acme Trimmer, High Speed</td>\n",
              "      <td>120.366</td>\n",
              "      <td>3</td>\n",
              "      <td>0.1</td>\n",
              "      <td>36.036</td>\n",
              "      <td>9.72</td>\n",
              "      <td>Medium</td>\n",
              "      <td>2011</td>\n",
              "      <td>11-01</td>\n",
              "    </tr>\n",
              "  </tbody>\n",
              "</table>\n",
              "</div>"
            ],
            "text/plain": [
              "        order_id order_date  ship_date  ... order_priority  year Monthyear\n",
              "0   AG-2011-2040 2011-01-01 2011-01-06  ...         Medium  2011     11-01\n",
              "1  IN-2011-47883 2011-01-01 2011-01-08  ...         Medium  2011     11-01\n",
              "\n",
              "[2 rows x 22 columns]"
            ]
          },
          "metadata": {},
          "execution_count": 37
        }
      ]
    },
    {
      "cell_type": "code",
      "metadata": {
        "id": "x2ABov1nuP_x"
      },
      "source": [
        "dfsales=pd.DataFrame(df2.groupby('product_name')['sales'].sum())"
      ],
      "execution_count": 40,
      "outputs": []
    },
    {
      "cell_type": "code",
      "metadata": {
        "id": "TNX5WbD4ubZ3"
      },
      "source": [
        "dfsales.sort_values(by='sales',ascending=False,inplace=True)"
      ],
      "execution_count": 42,
      "outputs": []
    },
    {
      "cell_type": "code",
      "metadata": {
        "colab": {
          "base_uri": "https://localhost:8080/",
          "height": 388
        },
        "id": "8dh0SMQYvGD0",
        "outputId": "3f29b315-ecd4-4199-f89f-1140cb22bd69"
      },
      "source": [
        "dfsales[:10]"
      ],
      "execution_count": 43,
      "outputs": [
        {
          "output_type": "execute_result",
          "data": {
            "text/html": [
              "<div>\n",
              "<style scoped>\n",
              "    .dataframe tbody tr th:only-of-type {\n",
              "        vertical-align: middle;\n",
              "    }\n",
              "\n",
              "    .dataframe tbody tr th {\n",
              "        vertical-align: top;\n",
              "    }\n",
              "\n",
              "    .dataframe thead th {\n",
              "        text-align: right;\n",
              "    }\n",
              "</style>\n",
              "<table border=\"1\" class=\"dataframe\">\n",
              "  <thead>\n",
              "    <tr style=\"text-align: right;\">\n",
              "      <th></th>\n",
              "      <th>sales</th>\n",
              "    </tr>\n",
              "    <tr>\n",
              "      <th>product_name</th>\n",
              "      <th></th>\n",
              "    </tr>\n",
              "  </thead>\n",
              "  <tbody>\n",
              "    <tr>\n",
              "      <th>Apple Smart Phone, Full Size</th>\n",
              "      <td>86935.7786</td>\n",
              "    </tr>\n",
              "    <tr>\n",
              "      <th>Cisco Smart Phone, Full Size</th>\n",
              "      <td>76441.5306</td>\n",
              "    </tr>\n",
              "    <tr>\n",
              "      <th>Motorola Smart Phone, Full Size</th>\n",
              "      <td>73156.3030</td>\n",
              "    </tr>\n",
              "    <tr>\n",
              "      <th>Nokia Smart Phone, Full Size</th>\n",
              "      <td>71904.5555</td>\n",
              "    </tr>\n",
              "    <tr>\n",
              "      <th>Canon imageCLASS 2200 Advanced Copier</th>\n",
              "      <td>61599.8240</td>\n",
              "    </tr>\n",
              "    <tr>\n",
              "      <th>Hon Executive Leather Armchair, Adjustable</th>\n",
              "      <td>58193.4841</td>\n",
              "    </tr>\n",
              "    <tr>\n",
              "      <th>Office Star Executive Leather Armchair, Adjustable</th>\n",
              "      <td>50661.6840</td>\n",
              "    </tr>\n",
              "    <tr>\n",
              "      <th>Harbour Creations Executive Leather Armchair, Adjustable</th>\n",
              "      <td>50121.5160</td>\n",
              "    </tr>\n",
              "    <tr>\n",
              "      <th>Samsung Smart Phone, Cordless</th>\n",
              "      <td>48653.4600</td>\n",
              "    </tr>\n",
              "    <tr>\n",
              "      <th>Nokia Smart Phone, with Caller ID</th>\n",
              "      <td>47877.7857</td>\n",
              "    </tr>\n",
              "  </tbody>\n",
              "</table>\n",
              "</div>"
            ],
            "text/plain": [
              "                                                         sales\n",
              "product_name                                                  \n",
              "Apple Smart Phone, Full Size                        86935.7786\n",
              "Cisco Smart Phone, Full Size                        76441.5306\n",
              "Motorola Smart Phone, Full Size                     73156.3030\n",
              "Nokia Smart Phone, Full Size                        71904.5555\n",
              "Canon imageCLASS 2200 Advanced Copier               61599.8240\n",
              "Hon Executive Leather Armchair, Adjustable          58193.4841\n",
              "Office Star Executive Leather Armchair, Adjustable  50661.6840\n",
              "Harbour Creations Executive Leather Armchair, A...  50121.5160\n",
              "Samsung Smart Phone, Cordless                       48653.4600\n",
              "Nokia Smart Phone, with Caller ID                   47877.7857"
            ]
          },
          "metadata": {},
          "execution_count": 43
        }
      ]
    },
    {
      "cell_type": "code",
      "metadata": {
        "id": "Oia8EAE_vTeD"
      },
      "source": [
        "dfquantity=pd.DataFrame(df2.groupby('product_name')['quantity'].sum())"
      ],
      "execution_count": 44,
      "outputs": []
    },
    {
      "cell_type": "code",
      "metadata": {
        "id": "Lh0TnfAAv3zX"
      },
      "source": [
        "dfquantity.sort_values(by='quantity',ascending=False,inplace=True)"
      ],
      "execution_count": 47,
      "outputs": []
    },
    {
      "cell_type": "code",
      "metadata": {
        "colab": {
          "base_uri": "https://localhost:8080/",
          "height": 388
        },
        "id": "k2OX5h40v6mG",
        "outputId": "92d07425-185a-4f1d-caf3-98e31feed12b"
      },
      "source": [
        "dfquantity[:10]"
      ],
      "execution_count": 48,
      "outputs": [
        {
          "output_type": "execute_result",
          "data": {
            "text/html": [
              "<div>\n",
              "<style scoped>\n",
              "    .dataframe tbody tr th:only-of-type {\n",
              "        vertical-align: middle;\n",
              "    }\n",
              "\n",
              "    .dataframe tbody tr th {\n",
              "        vertical-align: top;\n",
              "    }\n",
              "\n",
              "    .dataframe thead th {\n",
              "        text-align: right;\n",
              "    }\n",
              "</style>\n",
              "<table border=\"1\" class=\"dataframe\">\n",
              "  <thead>\n",
              "    <tr style=\"text-align: right;\">\n",
              "      <th></th>\n",
              "      <th>quantity</th>\n",
              "    </tr>\n",
              "    <tr>\n",
              "      <th>product_name</th>\n",
              "      <th></th>\n",
              "    </tr>\n",
              "  </thead>\n",
              "  <tbody>\n",
              "    <tr>\n",
              "      <th>Staples</th>\n",
              "      <td>876</td>\n",
              "    </tr>\n",
              "    <tr>\n",
              "      <th>Cardinal Index Tab, Clear</th>\n",
              "      <td>337</td>\n",
              "    </tr>\n",
              "    <tr>\n",
              "      <th>Eldon File Cart, Single Width</th>\n",
              "      <td>321</td>\n",
              "    </tr>\n",
              "    <tr>\n",
              "      <th>Rogers File Cart, Single Width</th>\n",
              "      <td>262</td>\n",
              "    </tr>\n",
              "    <tr>\n",
              "      <th>Sanford Pencil Sharpener, Water Color</th>\n",
              "      <td>259</td>\n",
              "    </tr>\n",
              "    <tr>\n",
              "      <th>Stockwell Paper Clips, Assorted Sizes</th>\n",
              "      <td>253</td>\n",
              "    </tr>\n",
              "    <tr>\n",
              "      <th>Avery Index Tab, Clear</th>\n",
              "      <td>252</td>\n",
              "    </tr>\n",
              "    <tr>\n",
              "      <th>Ibico Index Tab, Clear</th>\n",
              "      <td>251</td>\n",
              "    </tr>\n",
              "    <tr>\n",
              "      <th>Smead File Cart, Single Width</th>\n",
              "      <td>250</td>\n",
              "    </tr>\n",
              "    <tr>\n",
              "      <th>Stanley Pencil Sharpener, Water Color</th>\n",
              "      <td>242</td>\n",
              "    </tr>\n",
              "  </tbody>\n",
              "</table>\n",
              "</div>"
            ],
            "text/plain": [
              "                                       quantity\n",
              "product_name                                   \n",
              "Staples                                     876\n",
              "Cardinal Index Tab, Clear                   337\n",
              "Eldon File Cart, Single Width               321\n",
              "Rogers File Cart, Single Width              262\n",
              "Sanford Pencil Sharpener, Water Color       259\n",
              "Stockwell Paper Clips, Assorted Sizes       253\n",
              "Avery Index Tab, Clear                      252\n",
              "Ibico Index Tab, Clear                      251\n",
              "Smead File Cart, Single Width               250\n",
              "Stanley Pencil Sharpener, Water Color       242"
            ]
          },
          "metadata": {},
          "execution_count": 48
        }
      ]
    },
    {
      "cell_type": "code",
      "metadata": {
        "colab": {
          "base_uri": "https://localhost:8080/"
        },
        "id": "LD4zTPSfwTb9",
        "outputId": "7311e03b-d6ee-4319-e8bf-1295e9d4c235"
      },
      "source": [
        "df2['ship_mode'].unique()"
      ],
      "execution_count": 50,
      "outputs": [
        {
          "output_type": "execute_result",
          "data": {
            "text/plain": [
              "array(['Standard Class', 'Second Class', 'Same Day', 'First Class'],\n",
              "      dtype=object)"
            ]
          },
          "metadata": {},
          "execution_count": 50
        }
      ]
    },
    {
      "cell_type": "code",
      "metadata": {
        "colab": {
          "base_uri": "https://localhost:8080/",
          "height": 350
        },
        "id": "72YKw8_Uwku9",
        "outputId": "27413f9a-e66d-4d29-fe75-e87ff4407584"
      },
      "source": [
        "sns.countplot(df2['ship_mode'])"
      ],
      "execution_count": 54,
      "outputs": [
        {
          "output_type": "stream",
          "name": "stderr",
          "text": [
            "/usr/local/lib/python3.7/dist-packages/seaborn/_decorators.py:43: FutureWarning: Pass the following variable as a keyword arg: x. From version 0.12, the only valid positional argument will be `data`, and passing other arguments without an explicit keyword will result in an error or misinterpretation.\n",
            "  FutureWarning\n"
          ]
        },
        {
          "output_type": "execute_result",
          "data": {
            "text/plain": [
              "<matplotlib.axes._subplots.AxesSubplot at 0x7f1e50596ed0>"
            ]
          },
          "metadata": {},
          "execution_count": 54
        },
        {
          "output_type": "display_data",
          "data": {
            "image/png": "[encoded data removed]",
            "text/plain": [
              "<Figure size 432x288 with 1 Axes>"
            ]
          },
          "metadata": {
            "needs_background": "light"
          }
        }
      ]
    },
    {
      "cell_type": "code",
      "metadata": {
        "id": "jdlZ-AUiwugz"
      },
      "source": [
        "dfprofit=pd.DataFrame(df2.groupby(['category','sub_category'])['profit'].sum())"
      ],
      "execution_count": 58,
      "outputs": []
    },
    {
      "cell_type": "code",
      "metadata": {
        "colab": {
          "base_uri": "https://localhost:8080/",
          "height": 603
        },
        "id": "QAZsXWYnxbcE",
        "outputId": "b820c7a5-fe80-4be1-e5d3-dde189625038"
      },
      "source": [
        "dfprofit.sort_values(['category','profit'],ascending=False)"
      ],
      "execution_count": 59,
      "outputs": [
        {
          "output_type": "execute_result",
          "data": {
            "text/html": [
              "<div>\n",
              "<style scoped>\n",
              "    .dataframe tbody tr th:only-of-type {\n",
              "        vertical-align: middle;\n",
              "    }\n",
              "\n",
              "    .dataframe tbody tr th {\n",
              "        vertical-align: top;\n",
              "    }\n",
              "\n",
              "    .dataframe thead th {\n",
              "        text-align: right;\n",
              "    }\n",
              "</style>\n",
              "<table border=\"1\" class=\"dataframe\">\n",
              "  <thead>\n",
              "    <tr style=\"text-align: right;\">\n",
              "      <th></th>\n",
              "      <th></th>\n",
              "      <th>profit</th>\n",
              "    </tr>\n",
              "    <tr>\n",
              "      <th>category</th>\n",
              "      <th>sub_category</th>\n",
              "      <th></th>\n",
              "    </tr>\n",
              "  </thead>\n",
              "  <tbody>\n",
              "    <tr>\n",
              "      <th rowspan=\"4\" valign=\"top\">Technology</th>\n",
              "      <th>Copiers</th>\n",
              "      <td>258567.54818</td>\n",
              "    </tr>\n",
              "    <tr>\n",
              "      <th>Phones</th>\n",
              "      <td>216717.00580</td>\n",
              "    </tr>\n",
              "    <tr>\n",
              "      <th>Accessories</th>\n",
              "      <td>129626.30620</td>\n",
              "    </tr>\n",
              "    <tr>\n",
              "      <th>Machines</th>\n",
              "      <td>58867.87300</td>\n",
              "    </tr>\n",
              "    <tr>\n",
              "      <th rowspan=\"9\" valign=\"top\">Office Supplies</th>\n",
              "      <th>Appliances</th>\n",
              "      <td>141680.58940</td>\n",
              "    </tr>\n",
              "    <tr>\n",
              "      <th>Storage</th>\n",
              "      <td>108461.48980</td>\n",
              "    </tr>\n",
              "    <tr>\n",
              "      <th>Binders</th>\n",
              "      <td>72449.84600</td>\n",
              "    </tr>\n",
              "    <tr>\n",
              "      <th>Paper</th>\n",
              "      <td>59207.68270</td>\n",
              "    </tr>\n",
              "    <tr>\n",
              "      <th>Art</th>\n",
              "      <td>57953.91090</td>\n",
              "    </tr>\n",
              "    <tr>\n",
              "      <th>Envelopes</th>\n",
              "      <td>29601.11630</td>\n",
              "    </tr>\n",
              "    <tr>\n",
              "      <th>Supplies</th>\n",
              "      <td>22583.26310</td>\n",
              "    </tr>\n",
              "    <tr>\n",
              "      <th>Labels</th>\n",
              "      <td>15010.51200</td>\n",
              "    </tr>\n",
              "    <tr>\n",
              "      <th>Fasteners</th>\n",
              "      <td>11525.42410</td>\n",
              "    </tr>\n",
              "    <tr>\n",
              "      <th rowspan=\"4\" valign=\"top\">Furniture</th>\n",
              "      <th>Bookcases</th>\n",
              "      <td>161924.41950</td>\n",
              "    </tr>\n",
              "    <tr>\n",
              "      <th>Chairs</th>\n",
              "      <td>141973.79750</td>\n",
              "    </tr>\n",
              "    <tr>\n",
              "      <th>Furnishings</th>\n",
              "      <td>46967.42550</td>\n",
              "    </tr>\n",
              "    <tr>\n",
              "      <th>Tables</th>\n",
              "      <td>-64083.38870</td>\n",
              "    </tr>\n",
              "  </tbody>\n",
              "</table>\n",
              "</div>"
            ],
            "text/plain": [
              "                                    profit\n",
              "category        sub_category              \n",
              "Technology      Copiers       258567.54818\n",
              "                Phones        216717.00580\n",
              "                Accessories   129626.30620\n",
              "                Machines       58867.87300\n",
              "Office Supplies Appliances    141680.58940\n",
              "                Storage       108461.48980\n",
              "                Binders        72449.84600\n",
              "                Paper          59207.68270\n",
              "                Art            57953.91090\n",
              "                Envelopes      29601.11630\n",
              "                Supplies       22583.26310\n",
              "                Labels         15010.51200\n",
              "                Fasteners      11525.42410\n",
              "Furniture       Bookcases     161924.41950\n",
              "                Chairs        141973.79750\n",
              "                Furnishings    46967.42550\n",
              "                Tables        -64083.38870"
            ]
          },
          "metadata": {},
          "execution_count": 59
        }
      ]
    },
    {
      "cell_type": "code",
      "metadata": {
        "id": "cL1RVtXAySEI"
      },
      "source": [
        ""
      ],
      "execution_count": null,
      "outputs": []
    }
  ]
}